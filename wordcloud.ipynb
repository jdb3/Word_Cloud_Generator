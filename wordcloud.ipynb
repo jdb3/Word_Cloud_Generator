{
 "cells": [
  {
   "cell_type": "code",
   "execution_count": 12,
   "metadata": {},
   "outputs": [],
   "source": [
    "#pip install wordcloud"
   ]
  },
  {
   "cell_type": "code",
   "execution_count": 13,
   "metadata": {},
   "outputs": [],
   "source": [
    "#http://amueller.github.io/word_cloud/index.html"
   ]
  },
  {
   "cell_type": "code",
   "execution_count": 6,
   "metadata": {},
   "outputs": [],
   "source": [
    "import numpy as np\n",
    "from PIL import Image\n",
    "import matplotlib.pyplot as plt\n",
    "from wordcloud import WordCloud, STOPWORDS"
   ]
  },
  {
   "cell_type": "code",
   "execution_count": 23,
   "metadata": {},
   "outputs": [
    {
     "data": {
      "text/plain": [
       "'sad\\\\earnings \\\\election \\\\futures \\\\investor \\\\low \\\\market \\\\nasdaq \\\\north korea\\\\northkorea\\\\stock\\\\market \\\\correction \\\\trading \\\\unemployment\\\\wall street\\\\china\\\\ban\\\\bull \\\\kim \\\\price \\\\wallstreet\\\\high \\\\corporate \\\\global warming \\\\tariff \\\\tax cut \\\\jobs \\\\economy \\\\trade \\\\missile \\\\nuclear\\\\wages\\\\maga\\\\rates \\\\inflation \\\\growth \\\\dollar \\\\Fed \\\\Powell \\\\Xi \\\\tariffs \\\\impeach \\\\intent \\\\continue \\\\receive \\\\hundred \\\\billion \\\\take \\\\unfair \\\\practice \\\\currency \\\\manipulation \\\\stop \\\\many \\\\media\\\\great\\\\today\\\\fake\\\\big\\\\russia\\\\democrats\\\\country\\\\time\\\\failing\\\\obamacare\\\\america\\\\foxandfriends\\\\house\\\\nytimes\\\\make\\\\united\\\\healthcare\\\\forward\\\\white\\\\win \\\\security\\\\tax\\\\judge\\\\minister\\\\deal\\\\decision\\\\wall \\\\obama\\\\national\\\\support\\\\border\\\\tonight\\\\republicans\\\\washington\\\\administration\\\\optimism\\\\government\\\\executive\\\\talk\\\\vote\\\\illegal\\\\sanctions\\\\buy america\\\\hire america\\\\build\\\\factories\\\\labor\\\\'"
      ]
     },
     "execution_count": 23,
     "metadata": {},
     "output_type": "execute_result"
    }
   ],
   "source": [
    "keywords = open('./trump_keywords.txt','r').read()\n",
    "keywords"
   ]
  },
  {
   "cell_type": "code",
   "execution_count": 58,
   "metadata": {},
   "outputs": [],
   "source": [
    "import requests\n",
    "from io import BytesIO\n",
    "url = 'https://www.cbc.ca/interactives/content/lead_images/_lead-large/hero-altamerica.jpg'\n",
    "response = requests.get(url)\n",
    "img = Image.open(BytesIO(response.content))\n",
    "image = np.asanyarray(img)"
   ]
  },
  {
   "cell_type": "code",
   "execution_count": 64,
   "metadata": {},
   "outputs": [],
   "source": [
    "#keywords_list =['sad','earnings ','election ','futures ','investor ','low ','market ','nasdaq ','north korea','northkorea','stock','market ','correction ','trading ','unemployment','wall street','china','ban','bull ','kim ','price ','wallstreet','high ','corporate ','global warming ','tariff ','tax cut ','jobs ','economy ','trade ','missile ','nuclear','wages','maga','rates ','inflation ','growth ','dollar ','Fed ','Powell ','Xi ','tariffs ','impeach ','intent ','continue ','receive ','hundred ','billion ','take ','unfair ','practice ','currency ','manipulation ','stop ','many ','media','great','today','fake','big','russia','democrats','country','time','failing','obamacare','america','foxandfriends','house','nytimes','make','united','healthcare','forward','white','win ','security','tax','judge','minister','deal','decision','wall ','obama','national','support','border','tonight','republicans','washington','administration','optimism','government','executive','talk','vote','illegal','sanctions','buy america','hire america','build','factories','labor']"
   ]
  },
  {
   "cell_type": "code",
   "execution_count": 62,
   "metadata": {},
   "outputs": [
    {
     "data": {
      "text/plain": [
       "<wordcloud.wordcloud.WordCloud at 0x1ff01bed8c8>"
      ]
     },
     "execution_count": 62,
     "metadata": {},
     "output_type": "execute_result"
    }
   ],
   "source": [
    "wc = WordCloud(background_color=\"white\", max_words=1500, mask=image)#, stopwords=STOPWORDS)\n",
    "wc.generate(keywords)\n",
    "wc.to_file('trumpimageonflag.png')"
   ]
  },
  {
   "cell_type": "code",
   "execution_count": 63,
   "metadata": {},
   "outputs": [],
   "source": [
    "from PIL import Image\n",
    "import numpy as np\n",
    "img1 = Image.open(\"trumpimageonflag.png\").convert(\"RGBA\")\n",
    "img1.putalpha(128)\n",
    "#url = 'https://www.cbc.ca/interactives/content/lead_images/_lead-large/hero-altamerica.jpg'\n",
    "response = requests.get(url)\n",
    "img = Image.open(BytesIO(response.content)).convert(\"RGBA\")\n",
    "#image = np.asanyarray(img)\n",
    "#background = Image.open(\"background_1354_2030.png\")\n",
    "img.paste(img1, (0, 0, 1180, 664), img1)\n",
    "img.save('how_to_superimpose_two_images_01.png',\"PNG\")"
   ]
  }
 ],
 "metadata": {
  "kernelspec": {
   "display_name": "Python 3",
   "language": "python",
   "name": "python3"
  },
  "language_info": {
   "codemirror_mode": {
    "name": "ipython",
    "version": 3
   },
   "file_extension": ".py",
   "mimetype": "text/x-python",
   "name": "python",
   "nbconvert_exporter": "python",
   "pygments_lexer": "ipython3",
   "version": "3.7.4"
  }
 },
 "nbformat": 4,
 "nbformat_minor": 2
}
